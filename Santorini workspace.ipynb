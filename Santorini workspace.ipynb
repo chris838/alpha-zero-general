{
 "cells": [
  {
   "cell_type": "code",
   "execution_count": 1,
   "metadata": {},
   "outputs": [],
   "source": [
    "import Arena\n",
    "from MCTS import MCTS\n",
    "\n",
    "from santorini.SantoriniPlayers import (\n",
    "    RandomPlayer,\n",
    "    HumanSantoriniPlayer,\n",
    "    GreedySantoriniPlayer,\n",
    ")\n",
    "\n",
    "from santorini.SantoriniGame import SantoriniGame\n",
    "from santorini.keras.NNet import NNetWrapper as SantoriniKerasNNet\n",
    "\n",
    "import numpy as np\n",
    "from utils import *"
   ]
  },
  {
   "cell_type": "code",
   "execution_count": 3,
   "metadata": {},
   "outputs": [
    {
     "name": "stderr",
     "output_type": "stream",
     "text": [
      "Arena.playGames (1): 100%|██████████| 1/1 [00:00<00:00, 23.23it/s]\n",
      "Arena.playGames (2): 100%|██████████| 1/1 [00:00<00:00, 21.10it/s]"
     ]
    },
    {
     "name": "stdout",
     "output_type": "stream",
     "text": [
      "CPU times: user 87.1 ms, sys: 11.5 ms, total: 98.6 ms\n",
      "Wall time: 92.3 ms\n",
      "\\Random won 0 games, Greedy Player won 2 games\n"
     ]
    },
    {
     "name": "stderr",
     "output_type": "stream",
     "text": [
      "\n"
     ]
    }
   ],
   "source": [
    "%matplotlib widget\n",
    "\n",
    "game = SantoriniGame(5)\n",
    "neural_net = SantoriniKerasNNet\n",
    "\n",
    "random_player = RandomPlayer(game).play\n",
    "greedy_player = GreedySantoriniPlayer(game).play\n",
    "\n",
    "args = dotdict({'numMCTSSims': 25, 'cpuct': 1.0})\n",
    "mcts = MCTS(game, neural_net(game), args)\n",
    "alphago_player = lambda x: np.argmax(mcts.getActionProb(x, temp=0))\n",
    "\n",
    "arena = Arena.Arena(random_player, greedy_player, game, display=game.display_3d)\n",
    "\n",
    "%time oneWon, twoWon, draws = arena.playGames(2, verbose=False)\n",
    "print(\"\\Random won {} games, Greedy Player won {} games\".format(oneWon, twoWon))"
   ]
  },
  {
   "cell_type": "code",
   "execution_count": null,
   "metadata": {},
   "outputs": [],
   "source": [
    "import pstats\n",
    "from pstats import SortKey\n",
    "p = pstats.Stats('santorini_stats')\n",
    "\n",
    "p.strip_dirs().sort_stats(SortKey.CUMULATIVE).print_stats()\n",
    "# p.sort_stats(SortKey.CUMULATIVE).print_stats()\n",
    "\n",
    "\n"
   ]
  },
  {
   "cell_type": "code",
   "execution_count": null,
   "metadata": {},
   "outputs": [],
   "source": []
  }
 ],
 "metadata": {
  "kernelspec": {
   "display_name": "Python 3.8.13 ('alpha-zero-general')",
   "language": "python",
   "name": "python3"
  },
  "language_info": {
   "codemirror_mode": {
    "name": "ipython",
    "version": 3
   },
   "file_extension": ".py",
   "mimetype": "text/x-python",
   "name": "python",
   "nbconvert_exporter": "python",
   "pygments_lexer": "ipython3",
   "version": "3.8.13"
  },
  "vscode": {
   "interpreter": {
    "hash": "657c0be81c6521e0081491274218ac8dcf3b62e70931daf9de8a27956df454f8"
   }
  }
 },
 "nbformat": 4,
 "nbformat_minor": 2
}
