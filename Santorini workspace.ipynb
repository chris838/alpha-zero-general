{
 "cells": [
  {
   "cell_type": "code",
   "execution_count": 6,
   "metadata": {},
   "outputs": [],
   "source": [
    "import Arena\n",
    "from MCTS import MCTS\n",
    "\n",
    "from santorini.SantoriniPlayers import (\n",
    "    RandomPlayer,\n",
    "    HumanSantoriniPlayer,\n",
    "    GreedySantoriniPlayer,\n",
    ")\n",
    "\n",
    "from santorini.SantoriniGame import SantoriniGame\n",
    "from santorini.keras.NNet import NNetWrapper as SantoriniKerasNNet\n",
    "\n",
    "import numpy as np\n",
    "from utils import *"
   ]
  },
  {
   "cell_type": "code",
   "execution_count": 8,
   "metadata": {},
   "outputs": [
    {
     "name": "stderr",
     "output_type": "stream",
     "text": [
      "Arena.playGames (1):   0%|          | 0/1 [00:00<?, ?it/s]2022-07-16 14:52:27.794601: I tensorflow/core/grappler/optimizers/custom_graph_optimizer_registry.cc:113] Plugin optimizer for device_type GPU is enabled.\n",
      "Arena.playGames (1): 100%|██████████| 1/1 [00:04<00:00,  4.95s/it]\n",
      "Arena.playGames (2): 100%|██████████| 1/1 [00:03<00:00,  3.85s/it]"
     ]
    },
    {
     "name": "stdout",
     "output_type": "stream",
     "text": [
      "CPU times: user 7.41 s, sys: 1.03 s, total: 8.43 s\n",
      "Wall time: 8.8 s\n",
      "\\AlphaGo won 0 games, Greedy Player won 2 games\n"
     ]
    },
    {
     "name": "stderr",
     "output_type": "stream",
     "text": [
      "\n"
     ]
    }
   ],
   "source": [
    "%matplotlib widget\n",
    "\n",
    "game = SantoriniGame(5)\n",
    "neural_net = SantoriniKerasNNet\n",
    "\n",
    "random_player = RandomPlayer(game).play\n",
    "greedy_player = GreedySantoriniPlayer(game).play\n",
    "\n",
    "args = dotdict({'numMCTSSims': 25, 'cpuct': 1.0})\n",
    "mcts = MCTS(game, neural_net(game), args)\n",
    "alphago_player = lambda x: np.argmax(mcts.getActionProb(x, temp=0))\n",
    "\n",
    "arena = Arena.Arena(alphago_player, greedy_player, game, display=game.display_3d)\n",
    "\n",
    "%time oneWon, twoWon, draws = arena.playGames(2, verbose=False)\n",
    "print(\"\\AlphaGo won {} games, Greedy Player won {} games\".format(oneWon, twoWon))"
   ]
  },
  {
   "cell_type": "code",
   "execution_count": null,
   "metadata": {},
   "outputs": [],
   "source": []
  }
 ],
 "metadata": {
  "kernelspec": {
   "display_name": "Python 3.8.13 ('alphazero')",
   "language": "python",
   "name": "python3"
  },
  "language_info": {
   "codemirror_mode": {
    "name": "ipython",
    "version": 3
   },
   "file_extension": ".py",
   "mimetype": "text/x-python",
   "name": "python",
   "nbconvert_exporter": "python",
   "pygments_lexer": "ipython3",
   "version": "3.8.13"
  },
  "vscode": {
   "interpreter": {
    "hash": "3767498380bc04a6038b9d1090652050190349b8ea37c8cbd820de5263ca8855"
   }
  }
 },
 "nbformat": 4,
 "nbformat_minor": 2
}
