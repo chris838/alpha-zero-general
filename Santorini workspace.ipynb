{
 "cells": [
  {
   "cell_type": "code",
   "execution_count": 1,
   "metadata": {},
   "outputs": [],
   "source": [
    "import Arena\n",
    "from MCTS import MCTS\n",
    "\n",
    "from othello.OthelloPlayers import RandomPlayer\n",
    "\n",
    "from santorini.SantoriniGame import SantoriniGame\n",
    "from santorini.keras.NNet import NNetWrapper as SantoriniKerasNNet\n",
    "\n",
    "import numpy as np\n",
    "from utils import *"
   ]
  },
  {
   "cell_type": "code",
   "execution_count": 2,
   "metadata": {},
   "outputs": [
    {
     "ename": "ValueError",
     "evalue": "too many values to unpack (expected 2)",
     "output_type": "error",
     "traceback": [
      "\u001b[0;31m---------------------------------------------------------------------------\u001b[0m",
      "\u001b[0;31mValueError\u001b[0m                                Traceback (most recent call last)",
      "\u001b[1;32m/Users/chris/projects/ai-playground/alpha-zero-general/Santorini workspace.ipynb Cell 2\u001b[0m in \u001b[0;36m<cell line: 7>\u001b[0;34m()\u001b[0m\n\u001b[1;32m      <a href='vscode-notebook-cell:/Users/chris/projects/ai-playground/alpha-zero-general/Santorini%20workspace.ipynb#ch0000001?line=3'>4</a>\u001b[0m rp \u001b[39m=\u001b[39m RandomPlayer(game)\u001b[39m.\u001b[39mplay\n\u001b[1;32m      <a href='vscode-notebook-cell:/Users/chris/projects/ai-playground/alpha-zero-general/Santorini%20workspace.ipynb#ch0000001?line=5'>6</a>\u001b[0m args \u001b[39m=\u001b[39m dotdict({\u001b[39m'\u001b[39m\u001b[39mnumMCTSSims\u001b[39m\u001b[39m'\u001b[39m: \u001b[39m25\u001b[39m, \u001b[39m'\u001b[39m\u001b[39mcpuct\u001b[39m\u001b[39m'\u001b[39m: \u001b[39m1.0\u001b[39m})\n\u001b[0;32m----> <a href='vscode-notebook-cell:/Users/chris/projects/ai-playground/alpha-zero-general/Santorini%20workspace.ipynb#ch0000001?line=6'>7</a>\u001b[0m mcts \u001b[39m=\u001b[39m MCTS(game, neural_net(game), args)\n\u001b[1;32m      <a href='vscode-notebook-cell:/Users/chris/projects/ai-playground/alpha-zero-general/Santorini%20workspace.ipynb#ch0000001?line=7'>8</a>\u001b[0m n1p \u001b[39m=\u001b[39m \u001b[39mlambda\u001b[39;00m x: np\u001b[39m.\u001b[39margmax(mcts\u001b[39m.\u001b[39mgetActionProb(x, temp\u001b[39m=\u001b[39m\u001b[39m0\u001b[39m))\n\u001b[1;32m     <a href='vscode-notebook-cell:/Users/chris/projects/ai-playground/alpha-zero-general/Santorini%20workspace.ipynb#ch0000001?line=9'>10</a>\u001b[0m arena \u001b[39m=\u001b[39m Arena\u001b[39m.\u001b[39mArena(n1p, rp, game)\n",
      "File \u001b[0;32m~/projects/ai-playground/alpha-zero-general/santorini/keras/NNet.py:28\u001b[0m, in \u001b[0;36mNNetWrapper.__init__\u001b[0;34m(self, game)\u001b[0m\n\u001b[1;32m     27\u001b[0m \u001b[39mdef\u001b[39;00m \u001b[39m__init__\u001b[39m(\u001b[39mself\u001b[39m, game):\n\u001b[0;32m---> 28\u001b[0m     \u001b[39mself\u001b[39m\u001b[39m.\u001b[39mnnet \u001b[39m=\u001b[39m onnet(game, args)\n\u001b[1;32m     29\u001b[0m     \u001b[39mself\u001b[39m\u001b[39m.\u001b[39mboard_x, \u001b[39mself\u001b[39m\u001b[39m.\u001b[39mboard_y \u001b[39m=\u001b[39m game\u001b[39m.\u001b[39mgetBoardSize()\n\u001b[1;32m     30\u001b[0m     \u001b[39mself\u001b[39m\u001b[39m.\u001b[39maction_size \u001b[39m=\u001b[39m game\u001b[39m.\u001b[39mgetActionSize()\n",
      "File \u001b[0;32m~/projects/ai-playground/alpha-zero-general/santorini/keras/SantoriniNNet.py:13\u001b[0m, in \u001b[0;36mSantoriniNNet.__init__\u001b[0;34m(self, game, args)\u001b[0m\n\u001b[1;32m     11\u001b[0m \u001b[39mdef\u001b[39;00m \u001b[39m__init__\u001b[39m(\u001b[39mself\u001b[39m, game, args):\n\u001b[1;32m     12\u001b[0m     \u001b[39m# game params\u001b[39;00m\n\u001b[0;32m---> 13\u001b[0m     \u001b[39mself\u001b[39m\u001b[39m.\u001b[39mboard_x, \u001b[39mself\u001b[39m\u001b[39m.\u001b[39mboard_y \u001b[39m=\u001b[39m game\u001b[39m.\u001b[39mgetBoardSize()\n\u001b[1;32m     14\u001b[0m     \u001b[39mself\u001b[39m\u001b[39m.\u001b[39maction_size \u001b[39m=\u001b[39m game\u001b[39m.\u001b[39mgetActionSize()\n\u001b[1;32m     15\u001b[0m     \u001b[39mself\u001b[39m\u001b[39m.\u001b[39margs \u001b[39m=\u001b[39m args\n",
      "\u001b[0;31mValueError\u001b[0m: too many values to unpack (expected 2)"
     ]
    }
   ],
   "source": [
    "\n",
    "\n",
    "game = SantoriniGame(5)\n",
    "neural_net = SantoriniKerasNNet\n",
    "\n",
    "rp = RandomPlayer(game).play\n",
    "\n",
    "args = dotdict({'numMCTSSims': 25, 'cpuct': 1.0})\n",
    "mcts = MCTS(game, neural_net(game), args)\n",
    "n1p = lambda x: np.argmax(mcts.getActionProb(x, temp=0))\n",
    "\n",
    "arena = Arena.Arena(n1p, rp, game)\n",
    "print(arena.playGames(2, verbose=False))"
   ]
  },
  {
   "cell_type": "code",
   "execution_count": null,
   "metadata": {},
   "outputs": [],
   "source": []
  }
 ],
 "metadata": {
  "kernelspec": {
   "display_name": "Python 3.8.13 ('alphazero')",
   "language": "python",
   "name": "python3"
  },
  "language_info": {
   "codemirror_mode": {
    "name": "ipython",
    "version": 3
   },
   "file_extension": ".py",
   "mimetype": "text/x-python",
   "name": "python",
   "nbconvert_exporter": "python",
   "pygments_lexer": "ipython3",
   "version": "3.8.13"
  },
  "vscode": {
   "interpreter": {
    "hash": "3767498380bc04a6038b9d1090652050190349b8ea37c8cbd820de5263ca8855"
   }
  }
 },
 "nbformat": 4,
 "nbformat_minor": 2
}
