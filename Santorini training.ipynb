{
  "cells": [
    {
      "cell_type": "markdown",
      "metadata": {},
      "source": [
        "# Setup on Colab"
      ]
    },
    {
      "cell_type": "code",
      "execution_count": null,
      "metadata": {},
      "outputs": [],
      "source": [
        "!git clone https://github.com/chris838/alpha-zero-general.git"
      ]
    },
    {
      "cell_type": "code",
      "execution_count": null,
      "metadata": {},
      "outputs": [],
      "source": [
        "%cd '/content/alpha-zero-general'"
      ]
    },
    {
      "cell_type": "code",
      "execution_count": null,
      "metadata": {},
      "outputs": [],
      "source": [
        "!pip install -r docker/requirements.txt"
      ]
    },
    {
      "cell_type": "code",
      "execution_count": null,
      "metadata": {},
      "outputs": [],
      "source": [
        "!pip install --upgrade numpy # imgaug folium torchvision tqdm scipy tqdm pandas scikit-learn"
      ]
    },
    {
      "cell_type": "code",
      "execution_count": null,
      "metadata": {},
      "outputs": [],
      "source": [
        "from google.colab import drive\n",
        "drive.mount('/content/gdrive')"
      ]
    },
    {
      "cell_type": "code",
      "execution_count": null,
      "metadata": {},
      "outputs": [],
      "source": [
        "checkpoint_folder = Path('/content/gdrive/MyDrive/colab/alpha-zero-general/temp')\n",
        "load_folder = Path('/content/gdrive/MyDrive/colab/alpha-zero-general/pretrained_models/santorini/keras/5x5')"
      ]
    },
    {
      "cell_type": "markdown",
      "metadata": {},
      "source": [
        "# Setup locally"
      ]
    },
    {
      "cell_type": "code",
      "execution_count": null,
      "metadata": {},
      "outputs": [],
      "source": [
        "checkpoint_folder = Path('temp')\n",
        "load_folder = Path('pretrained_models/santorini/keras/5x5')"
      ]
    },
    {
      "cell_type": "markdown",
      "metadata": {
        "id": "QNEo96LdWxd8"
      },
      "source": [
        "# Train AlphaZero"
      ]
    },
    {
      "cell_type": "code",
      "execution_count": null,
      "metadata": {
        "id": "vsMxLhdKWO-H"
      },
      "outputs": [],
      "source": [
        "from datetime import datetime\n",
        "from pathlib import Path\n",
        "import shutil\n",
        "import logging\n",
        "import coloredlogs\n",
        "from Coach import Coach\n",
        "from utils import dotdict\n",
        "from santorini.keras.NNet import NNetWrapper\n",
        "from santorini.SantoriniGame import SantoriniGame"
      ]
    },
    {
      "cell_type": "code",
      "execution_count": null,
      "metadata": {},
      "outputs": [],
      "source": [
        "import Arena\n",
        "from MCTS import MCTS\n",
        "\n",
        "from santorini.SantoriniPlayers import (\n",
        "    RandomPlayer,\n",
        "    HumanSantoriniPlayer,\n",
        "    GreedySantoriniPlayer,\n",
        ")\n",
        "\n",
        "import numpy as np\n",
        "from utils import *"
      ]
    },
    {
      "cell_type": "code",
      "execution_count": null,
      "metadata": {
        "id": "pJi0kk_djiKm"
      },
      "outputs": [],
      "source": [
        "log = logging.getLogger(__name__)\n",
        "coloredlogs.install(level='INFO')  # Change this to DEBUG to see more info."
      ]
    },
    {
      "cell_type": "code",
      "execution_count": null,
      "metadata": {},
      "outputs": [],
      "source": [
        "checkpoint_folder.mkdir(parents=True, exist_ok=True)\n",
        "load_folder.mkdir(parents=True, exist_ok=True)"
      ]
    },
    {
      "cell_type": "code",
      "execution_count": null,
      "metadata": {
        "id": "WzIsb1wGVXkE"
      },
      "outputs": [],
      "source": [
        "args = dotdict({\n",
        "    'numIters': 1000,\n",
        "    'numEps': 100,              # Number of complete self-play games to simulate during a new iteration.\n",
        "    'tempThreshold': 15,        #\n",
        "    'updateThreshold': 0.6,     # During arena playoff, new neural net will be accepted if threshold or more of games are won.\n",
        "    'maxlenOfQueue': 200000,    # Number of game examples to train the neural networks.\n",
        "    'numMCTSSims': 25,          # Number of games moves for MCTS to simulate.\n",
        "    'arenaCompare': 40,         # Number of games to play during arena play to determine if new net will be accepted.\n",
        "    'cpuct': 1,\n",
        "    'checkpoint': str(checkpoint_folder),\n",
        "    'numItersForTrainExamplesHistory': 20,\n",
        "})"
      ]
    },
    {
      "cell_type": "code",
      "execution_count": null,
      "metadata": {
        "id": "c5fKMHufYD3m"
      },
      "outputs": [],
      "source": [
        "game = SantoriniGame(5)\n",
        "nnet = NNetWrapper(game)\n",
        "\n",
        "# Set very low iterations to let this notebook run in its entirety.\n",
        "# In reality, training a model, even as simple as the one for Dots and Boxes, can take several hours or days.\n",
        "args['numIters'] = 10\n",
        "args['numEps'] = 10\n",
        "args['arenaCompare'] = 3\n",
        "\n",
        "coach = Coach(game, nnet, args)"
      ]
    },
    {
      "cell_type": "code",
      "execution_count": null,
      "metadata": {},
      "outputs": [],
      "source": [
        "# Check if there are any checkpoints to load\n",
        "if list(load_folder.glob('*.h5')):\n",
        "  \n",
        "  print (\"Resuming training from saved model and samples\")\n",
        "\n",
        "  # Find the latest model/examples\n",
        "  last_checkpoint_name = sorted(load_folder.glob('*.examples'))[-1].stem\n",
        "  model_file = last_checkpoint_name # .pth.tar substituted for h5 in the load method\n",
        "  checkpoint_file = last_checkpoint_name # 'examples' suffix appended in the load method\n",
        "\n",
        "  # Load model weights\n",
        "  print (f\"Loading model weights from {model_file.replace('.pth.tar', '.h5')}\")\n",
        "  nnet.load_checkpoint(folder=str(load_folder), filename=model_file)\n",
        "\n",
        "  # Load training examples\n",
        "  print (f\"Loading training samples from {checkpoint_file}.examples\")\n",
        "  args['load_model'] = True\n",
        "  args['load_folder_file'] = (str(load_folder), checkpoint_file)\n",
        "  coach.loadTrainExamples()\n",
        "\n",
        "else:\n",
        "  args['load_model'] = False\n",
        "  print (\"No progress to load, training from scratch\")"
      ]
    },
    {
      "cell_type": "code",
      "execution_count": null,
      "metadata": {
        "colab": {
          "base_uri": "https://localhost:8080/"
        },
        "id": "0uJRc2aRVjN-",
        "outputId": "f89c606e-853f-4a93-c13c-bc109920d981"
      },
      "outputs": [],
      "source": [
        "# Learn\n",
        "%time coach.learn()"
      ]
    },
    {
      "cell_type": "code",
      "execution_count": null,
      "metadata": {},
      "outputs": [],
      "source": [
        "# Save progress by backing up the latest checkpoint, to be loaded on next run\n",
        "latest_samples = sorted(checkpoint_folder.glob('*.examples'))[-1]\n",
        "best_model = checkpoint_folder / 'best.h5'\n",
        "\n",
        "timestamp = datetime.now().strftime('%Y-%m-%d_%H-%M-%S') \n",
        "\n",
        "shutil.copy(latest_samples, load_folder / f'{timestamp}.pth.tar.examples')\n",
        "shutil.copy(best_model, load_folder / f'{timestamp}.h5')"
      ]
    },
    {
      "cell_type": "code",
      "execution_count": null,
      "metadata": {},
      "outputs": [],
      "source": []
    },
    {
      "cell_type": "code",
      "execution_count": null,
      "metadata": {},
      "outputs": [],
      "source": []
    },
    {
      "cell_type": "code",
      "execution_count": null,
      "metadata": {},
      "outputs": [],
      "source": []
    },
    {
      "cell_type": "code",
      "execution_count": null,
      "metadata": {},
      "outputs": [],
      "source": []
    },
    {
      "cell_type": "code",
      "execution_count": null,
      "metadata": {},
      "outputs": [],
      "source": []
    },
    {
      "cell_type": "code",
      "execution_count": null,
      "metadata": {},
      "outputs": [],
      "source": [
        "# Test performance against random bots\n",
        "\n",
        "%matplotlib widget\n",
        "\n",
        "game = SantoriniGame(5)\n",
        "\n",
        "random_player = RandomPlayer(game).play\n",
        "greedy_player = GreedySantoriniPlayer(game).play\n",
        "\n",
        "args = dotdict({'numMCTSSims': 25, 'cpuct': 1.0})\n",
        "mcts = MCTS(game, nnet, args)\n",
        "alphago_player = lambda x: np.argmax(mcts.getActionProb(x, temp=0))\n",
        "\n",
        "arena = Arena.Arena(alphago_player, greedy_player, game, display=game.display_3d)\n",
        "\n",
        "%time oneWon, twoWon, draws = arena.playGames(5, verbose=False)\n",
        "print(\"\\AlphaGo won {} games, Greedy Player won {} games\".format(oneWon, twoWon))"
      ]
    }
  ],
  "metadata": {
    "accelerator": "GPU",
    "colab": {
      "collapsed_sections": [],
      "machine_shape": "hm",
      "name": "Train Dots and Boxes using AlphaZero General.ipynb",
      "provenance": []
    },
    "kernelspec": {
      "display_name": "Python 3.8.13 ('alphazero')",
      "language": "python",
      "name": "python3"
    },
    "language_info": {
      "codemirror_mode": {
        "name": "ipython",
        "version": 3
      },
      "file_extension": ".py",
      "mimetype": "text/x-python",
      "name": "python",
      "nbconvert_exporter": "python",
      "pygments_lexer": "ipython3",
      "version": "3.8.13"
    },
    "vscode": {
      "interpreter": {
        "hash": "3767498380bc04a6038b9d1090652050190349b8ea37c8cbd820de5263ca8855"
      }
    }
  },
  "nbformat": 4,
  "nbformat_minor": 0
}
