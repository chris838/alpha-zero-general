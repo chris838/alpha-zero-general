{
  "cells": [
    {
      "cell_type": "markdown",
      "metadata": {},
      "source": [
        "# Detect environment"
      ]
    },
    {
      "cell_type": "code",
      "execution_count": null,
      "metadata": {},
      "outputs": [],
      "source": [
        "import os\n",
        "\n",
        "if \"COLAB_GPU\" in os.environ:\n",
        "    print(\"Detected as running on Colab, setting up accordingly\")\n",
        "    running_in_colab = True\n",
        "else:\n",
        "    print(\"Detected as running locally, setting up accordingly\")\n",
        "    running_in_colab = False\n"
      ]
    },
    {
      "cell_type": "markdown",
      "metadata": {
        "id": "LctLJi0B8QAP"
      },
      "source": [
        "# Setup on Colab"
      ]
    },
    {
      "cell_type": "code",
      "execution_count": null,
      "metadata": {
        "colab": {
          "base_uri": "https://localhost:8080/"
        },
        "id": "zPm-jZnj8QAQ",
        "outputId": "5fc0a597-c15c-484b-f9b4-c77f8b871851"
      },
      "outputs": [],
      "source": [
        "if running_in_colab:\n",
        "\n",
        "    from google.colab import drive\n",
        "    from pathlib import Path\n",
        "\n",
        "    # Only setup the environment on the first run\n",
        "    try:\n",
        "        runtime_has_been_setup\n",
        "    \n",
        "    except NameError:\n",
        "\n",
        "        # Checkout code and setup Python runtime\n",
        "        !git clone https://github.com/chris838/alpha-zero-general.git\n",
        "        %cd '/content/alpha-zero-general'\n",
        "        !pip install coloredlogs ipympl  # numpy imgaug folium torchvision tqdm scipy tqdm pandas scikit-learn\n",
        "\n",
        "        # Mount google drive for loading/storing progress\n",
        "        drive.mount('/content/gdrive')\n",
        "\n",
        "        # Define load and checkpoint paths        \n",
        "        checkpoint_folder = Path('/content/gdrive/MyDrive/colab/alpha-zero-general/temp/checkpoints')\n",
        "\n",
        "        runtime_has_been_setup = True"
      ]
    },
    {
      "cell_type": "markdown",
      "metadata": {
        "id": "hEAazocS8QAT"
      },
      "source": [
        "# Setup locally"
      ]
    },
    {
      "cell_type": "code",
      "execution_count": null,
      "metadata": {
        "id": "1MEFT-6U8QAT"
      },
      "outputs": [],
      "source": [
        "if not running_in_colab:\n",
        "\n",
        "    from pathlib import Path\n",
        "\n",
        "    # Define load and checkpoint paths\n",
        "    checkpoint_folder = Path(\"temp/checkpoints\")\n"
      ]
    },
    {
      "cell_type": "markdown",
      "metadata": {
        "id": "PvaghhIE8QAL"
      },
      "source": [
        "# Imports"
      ]
    },
    {
      "cell_type": "code",
      "execution_count": null,
      "metadata": {
        "id": "X-XOKMKH8QAO"
      },
      "outputs": [],
      "source": [
        "from datetime import datetime\n",
        "import shutil\n",
        "import logging\n",
        "import coloredlogs\n",
        "from Coach import Coach\n",
        "from utils import dotdict\n",
        "from santorini.keras.NNet import NNetWrapper\n",
        "from santorini.SantoriniGame import SantoriniGame"
      ]
    },
    {
      "cell_type": "code",
      "execution_count": null,
      "metadata": {
        "id": "4kG2o0DQ8QAP"
      },
      "outputs": [],
      "source": [
        "import Arena\n",
        "from MCTS import MCTS\n",
        "\n",
        "from santorini.SantoriniPlayers import (\n",
        "    RandomPlayer,\n",
        "    HumanSantoriniPlayer,\n",
        "    GreedySantoriniPlayer,\n",
        ")\n",
        "\n",
        "import numpy as np\n",
        "from utils import *"
      ]
    },
    {
      "cell_type": "markdown",
      "metadata": {
        "id": "QNEo96LdWxd8"
      },
      "source": [
        "# Initialise & restore progress"
      ]
    },
    {
      "cell_type": "code",
      "execution_count": null,
      "metadata": {
        "id": "pJi0kk_djiKm"
      },
      "outputs": [],
      "source": [
        "log = logging.getLogger(__name__)\n",
        "coloredlogs.install(level=\"INFO\")  # Change this to DEBUG to see more info.\n",
        "\n",
        "checkpoint_folder.mkdir(parents=True, exist_ok=True)\n",
        "\n",
        "args = dotdict(\n",
        "    {\n",
        "        \"numIters\": 5,\n",
        "        \"numEps\": 200,  # Number of complete self-play games to simulate during a new iteration.\n",
        "        \"arenaCompare\": 30,  # Number of games to play during arena play to determine if new net will be accepted.\n",
        "        \"tempThreshold\": 15,  #\n",
        "        \"updateThreshold\": 0.6,  # During arena playoff, new neural net will be accepted if threshold or more of games are won.\n",
        "        \"maxlenOfQueue\": 200000,  # Number of game examples to train the neural networks.\n",
        "        \"numMCTSSims\": 25,  # Number of games moves for MCTS to simulate.\n",
        "        \"cpuct\": 1,\n",
        "        \"checkpoint\": str(checkpoint_folder),\n",
        "        \"numItersForTrainExamplesHistory\": 20,\n",
        "    }\n",
        ")\n",
        "\n",
        "game = SantoriniGame(5)\n",
        "nnet = NNetWrapper(game)\n",
        "coach = Coach(game, nnet, args)"
      ]
    },
    {
      "cell_type": "code",
      "execution_count": null,
      "metadata": {},
      "outputs": [],
      "source": [
        "def backup_and_resume_progress():\n",
        "\n",
        "    # Check if there are any checkpoints to load\n",
        "    if list(checkpoint_folder.glob(\"*.h5\")):\n",
        "\n",
        "        print(\"Resuming training from saved model and samples\")\n",
        "\n",
        "        # Find the latest model/examples\n",
        "        last_checkpoint_name = sorted(checkpoint_folder.glob(\"*.examples\"))[-1].stem\n",
        "\n",
        "        # .pth.tar substituted for h5 in the load method\n",
        "        model_file = \"temp.pth.tar\" \n",
        "        model_file_actual = model_file.replace('.pth.tar', '.h5')\n",
        "\n",
        "        # 'examples' suffix appended in the load method\n",
        "        checkpoint_file = last_checkpoint_name \n",
        "        checkpoint_file_actual = f'{checkpoint_file}.examples'\n",
        "\n",
        "        # Load model weights\n",
        "        print(f\"Loading model weights from {model_file_actual}\")\n",
        "        nnet.load_checkpoint(folder=str(checkpoint_folder), filename=model_file)\n",
        "\n",
        "        # Load training examples\n",
        "        print(f\"Loading training samples from {checkpoint_file_actual}\")\n",
        "        args[\"load_model\"] = True\n",
        "        args[\"load_folder_file\"] = (str(checkpoint_folder), checkpoint_file)\n",
        "        coach.loadTrainExamples()\n",
        "\n",
        "        # Clean the entire checkpoint directory, by archiving the previous one and recreating\n",
        "        timestamp = datetime.now().strftime('%Y-%m-%d_%H-%M-%S') \n",
        "        shutil.move(checkpoint_folder, checkpoint_folder.parent / (checkpoint_folder.name + f'_{timestamp}'))\n",
        "        checkpoint_folder.mkdir(parents=True, exist_ok=True)\n",
        "\n",
        "    else:\n",
        "        args[\"load_model\"] = False\n",
        "        print(\"No progress to load, training from scratch\")"
      ]
    },
    {
      "cell_type": "code",
      "execution_count": null,
      "metadata": {},
      "outputs": [],
      "source": [
        "def assess_performance(num_trials = 200):\n",
        "\n",
        "    # Test performance against greedy bot\n",
        "    inference_args = dotdict({'numMCTSSims': 25, 'cpuct': 1.0})\n",
        "    inference_mcts = MCTS(game, nnet, inference_args)\n",
        "    alphago_player = lambda x: np.argmax(inference_mcts.getActionProb(x, temp=0))\n",
        "\n",
        "    greedy_player = GreedySantoriniPlayer(game).play\n",
        "    arena = Arena.Arena(alphago_player, greedy_player, game, display=game.display)\n",
        "    oneWon, twoWon, _ = arena.playGames(num_trials, verbose=False)\n",
        "    \n",
        "    print(\"\\AlphaGo won {} games, Greedy Player won {} games\".format(oneWon, twoWon))"
      ]
    },
    {
      "cell_type": "markdown",
      "metadata": {},
      "source": [
        "# Training"
      ]
    },
    {
      "cell_type": "code",
      "execution_count": null,
      "metadata": {
        "colab": {
          "background_save": true,
          "base_uri": "https://localhost:8080/"
        },
        "id": "0uJRc2aRVjN-",
        "outputId": "37afe2bb-8d24-4a3d-f7ba-ad4d43389010"
      },
      "outputs": [],
      "source": [
        "while True:\n",
        "\n",
        "    backup_and_resume_progress()\n",
        "\n",
        "    # Learn\n",
        "    %time coach.learn()\n",
        "\n",
        "    assess_performance()"
      ]
    }
  ],
  "metadata": {
    "accelerator": "GPU",
    "colab": {
      "background_execution": "on",
      "collapsed_sections": [],
      "machine_shape": "hm",
      "name": "Santorini training.ipynb",
      "provenance": []
    },
    "gpuClass": "standard",
    "kernelspec": {
      "display_name": "Python 3.8.13 ('alpha-zero-general')",
      "language": "python",
      "name": "python3"
    },
    "language_info": {
      "codemirror_mode": {
        "name": "ipython",
        "version": 3
      },
      "file_extension": ".py",
      "mimetype": "text/x-python",
      "name": "python",
      "nbconvert_exporter": "python",
      "pygments_lexer": "ipython3",
      "version": "3.8.13"
    },
    "vscode": {
      "interpreter": {
        "hash": "657c0be81c6521e0081491274218ac8dcf3b62e70931daf9de8a27956df454f8"
      }
    }
  },
  "nbformat": 4,
  "nbformat_minor": 0
}
