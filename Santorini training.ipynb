{
  "cells": [
    {
      "cell_type": "markdown",
      "metadata": {},
      "source": [
        "# Setup (colab only)"
      ]
    },
    {
      "cell_type": "code",
      "execution_count": null,
      "metadata": {},
      "outputs": [],
      "source": [
        "!git clone https://github.com/chris838/alpha-zero-general.git"
      ]
    },
    {
      "cell_type": "code",
      "execution_count": null,
      "metadata": {},
      "outputs": [],
      "source": [
        "%cd 'alpha-zero-general'"
      ]
    },
    {
      "cell_type": "code",
      "execution_count": null,
      "metadata": {},
      "outputs": [],
      "source": [
        "!pip install -r docker/requirements.txt"
      ]
    },
    {
      "cell_type": "markdown",
      "metadata": {
        "id": "QNEo96LdWxd8"
      },
      "source": [
        "# Train AlphaZero"
      ]
    },
    {
      "cell_type": "code",
      "execution_count": 1,
      "metadata": {
        "id": "vsMxLhdKWO-H"
      },
      "outputs": [],
      "source": [
        "import logging\n",
        "import coloredlogs\n",
        "from Coach import Coach\n",
        "from utils import dotdict\n",
        "from santorini.keras.NNet import NNetWrapper\n",
        "from santorini.SantoriniGame import SantoriniGame"
      ]
    },
    {
      "cell_type": "code",
      "execution_count": 2,
      "metadata": {},
      "outputs": [],
      "source": [
        "import Arena\n",
        "from MCTS import MCTS\n",
        "\n",
        "from santorini.SantoriniPlayers import (\n",
        "    RandomPlayer,\n",
        "    HumanSantoriniPlayer,\n",
        "    GreedySantoriniPlayer,\n",
        ")\n",
        "\n",
        "import numpy as np\n",
        "from utils import *"
      ]
    },
    {
      "cell_type": "code",
      "execution_count": 3,
      "metadata": {
        "id": "pJi0kk_djiKm"
      },
      "outputs": [],
      "source": [
        "log = logging.getLogger(__name__)\n",
        "coloredlogs.install(level='INFO')  # Change this to DEBUG to see more info."
      ]
    },
    {
      "cell_type": "code",
      "execution_count": 4,
      "metadata": {
        "id": "WzIsb1wGVXkE"
      },
      "outputs": [],
      "source": [
        "args = dotdict({\n",
        "    'numIters': 1000,\n",
        "    'numEps': 100,              # Number of complete self-play games to simulate during a new iteration.\n",
        "    'tempThreshold': 15,        #\n",
        "    'updateThreshold': 0.6,     # During arena playoff, new neural net will be accepted if threshold or more of games are won.\n",
        "    'maxlenOfQueue': 200000,    # Number of game examples to train the neural networks.\n",
        "    'numMCTSSims': 25,          # Number of games moves for MCTS to simulate.\n",
        "    'arenaCompare': 40,         # Number of games to play during arena play to determine if new net will be accepted.\n",
        "    'cpuct': 1,\n",
        "    'checkpoint': './temp/',\n",
        "    'load_model': False,\n",
        "    'numItersForTrainExamplesHistory': 20,\n",
        "})"
      ]
    },
    {
      "cell_type": "code",
      "execution_count": 5,
      "metadata": {
        "colab": {
          "base_uri": "https://localhost:8080/"
        },
        "id": "W8_4QdwlXZ3k",
        "outputId": "cfb8c1cb-2913-4f5c-cb51-25587937ab93"
      },
      "outputs": [
        {
          "name": "stdout",
          "output_type": "stream",
          "text": [
            "Not using best pre-existing model\n"
          ]
        }
      ],
      "source": [
        "# If you have a pre-trained model, you can load it here.\n",
        "import os\n",
        "if os.path.exists(os.path.join('pretrained_models', 'santorini', 'keras', '5x5', 'best.pth.tar.index')):\n",
        "  print (\"Using best pre-existing model\")\n",
        "  args['load_model'] = True\n",
        "  args['load_folder_file'] = ('pretrained_models/santorini/keras/5x5','best.pth.tar')\n",
        "else:\n",
        "  print (\"Not using best pre-existing model\")"
      ]
    },
    {
      "cell_type": "code",
      "execution_count": 7,
      "metadata": {
        "id": "c5fKMHufYD3m"
      },
      "outputs": [],
      "source": [
        "game = SantoriniGame(5)"
      ]
    },
    {
      "cell_type": "code",
      "execution_count": 8,
      "metadata": {
        "id": "VGKmzJ9kYF9O"
      },
      "outputs": [
        {
          "name": "stdout",
          "output_type": "stream",
          "text": [
            "Metal device set to: Apple M1 Pro\n",
            "\n",
            "systemMemory: 16.00 GB\n",
            "maxCacheSize: 5.33 GB\n",
            "\n"
          ]
        },
        {
          "name": "stderr",
          "output_type": "stream",
          "text": [
            "2022-07-16 18:16:38.684521: I tensorflow/core/common_runtime/pluggable_device/pluggable_device_factory.cc:305] Could not identify NUMA node of platform GPU ID 0, defaulting to 0. Your kernel may not have been built with NUMA support.\n",
            "2022-07-16 18:16:38.684703: I tensorflow/core/common_runtime/pluggable_device/pluggable_device_factory.cc:271] Created TensorFlow device (/job:localhost/replica:0/task:0/device:GPU:0 with 0 MB memory) -> physical PluggableDevice (device: 0, name: METAL, pci bus id: <undefined>)\n"
          ]
        }
      ],
      "source": [
        "nnet = NNetWrapper(game)"
      ]
    },
    {
      "cell_type": "code",
      "execution_count": 9,
      "metadata": {
        "colab": {
          "base_uri": "https://localhost:8080/"
        },
        "id": "KvkW0rl9YHeE",
        "outputId": "0bbe1c02-222c-4c29-f88a-88f613a3bbf8"
      },
      "outputs": [
        {
          "name": "stdout",
          "output_type": "stream",
          "text": [
            "Not loading a checkpoint.\n"
          ]
        }
      ],
      "source": [
        "if args.load_model:\n",
        "    print('Loading checkpoint \"{}/{}\"...'.format(args.load_folder_file[0], args.load_folder_file[1]))\n",
        "    nnet.load_checkpoint(args.load_folder_file[0], args.load_folder_file[1])\n",
        "else:\n",
        "    print('Not loading a checkpoint.')"
      ]
    },
    {
      "cell_type": "code",
      "execution_count": 10,
      "metadata": {
        "id": "_oIZd4tVXGjI"
      },
      "outputs": [],
      "source": [
        "# Set very low iterations to let this notebook run in its entirety.\n",
        "\n",
        "# In reality, training a model, even as simple as the one for Dots and Boxes, can take several hours or days.\n",
        "args['numIters'] = 1000\n",
        "args['numEps'] = 100\n",
        "args['arenaCompare'] = 40"
      ]
    },
    {
      "cell_type": "code",
      "execution_count": 11,
      "metadata": {
        "id": "ESToLzAkYKED"
      },
      "outputs": [],
      "source": [
        "coach = Coach(game, nnet, args)"
      ]
    },
    {
      "cell_type": "code",
      "execution_count": 12,
      "metadata": {
        "colab": {
          "base_uri": "https://localhost:8080/"
        },
        "id": "0uJRc2aRVjN-",
        "outputId": "f89c606e-853f-4a93-c13c-bc109920d981"
      },
      "outputs": [
        {
          "name": "stderr",
          "output_type": "stream",
          "text": [
            "2022-07-16 18:16:42 chris-pro.local Coach[45616] INFO Starting Iter #1 ...\n",
            "Self Play:   0%|          | 0/100 [00:00<?, ?it/s]2022-07-16 18:16:42.423996: W tensorflow/core/platform/profile_utils/cpu_utils.cc:128] Failed to get CPU frequency: 0 Hz\n",
            "2022-07-16 18:16:42.489868: I tensorflow/core/grappler/optimizers/custom_graph_optimizer_registry.cc:113] Plugin optimizer for device_type GPU is enabled.\n",
            "Self Play: 100%|██████████| 100/100 [38:57<00:00, 23.38s/it]\n"
          ]
        },
        {
          "name": "stdout",
          "output_type": "stream",
          "text": [
            "Checkpoint Directory exists! \n",
            "Epoch 1/10\n"
          ]
        },
        {
          "name": "stderr",
          "output_type": "stream",
          "text": [
            "2022-07-16 18:55:45.204651: I tensorflow/core/grappler/optimizers/custom_graph_optimizer_registry.cc:113] Plugin optimizer for device_type GPU is enabled.\n"
          ]
        },
        {
          "name": "stdout",
          "output_type": "stream",
          "text": [
            "396/396 [==============================] - 16s 39ms/step - loss: 6.1134 - pi_loss: 4.9333 - v_loss: 1.1802\n",
            "Epoch 2/10\n",
            "396/396 [==============================] - 16s 39ms/step - loss: 5.9114 - pi_loss: 4.8276 - v_loss: 1.0838\n",
            "Epoch 3/10\n",
            "396/396 [==============================] - 16s 39ms/step - loss: 5.7603 - pi_loss: 4.7591 - v_loss: 1.0012\n",
            "Epoch 4/10\n",
            "396/396 [==============================] - 16s 39ms/step - loss: 5.5503 - pi_loss: 4.7215 - v_loss: 0.8289\n",
            "Epoch 5/10\n",
            "396/396 [==============================] - 15s 39ms/step - loss: 5.3226 - pi_loss: 4.6906 - v_loss: 0.6320\n",
            "Epoch 6/10\n",
            "396/396 [==============================] - 16s 40ms/step - loss: 5.1035 - pi_loss: 4.6489 - v_loss: 0.4545\n",
            "Epoch 7/10\n",
            "396/396 [==============================] - 16s 39ms/step - loss: 4.9203 - pi_loss: 4.5908 - v_loss: 0.3295\n",
            "Epoch 8/10\n",
            "396/396 [==============================] - 15s 39ms/step - loss: 4.7533 - pi_loss: 4.5060 - v_loss: 0.2473\n",
            "Epoch 9/10\n",
            "396/396 [==============================] - 16s 39ms/step - loss: 4.5686 - pi_loss: 4.3735 - v_loss: 0.1951\n",
            "Epoch 10/10\n",
            "396/396 [==============================] - 16s 39ms/step - loss: 4.3136 - pi_loss: 4.1603 - v_loss: 0.1533\n"
          ]
        },
        {
          "name": "stderr",
          "output_type": "stream",
          "text": [
            "2022-07-16 18:58:21 chris-pro.local Coach[45616] INFO PITTING AGAINST PREVIOUS VERSION\n",
            "Arena.playGames (1):   0%|          | 0/20 [00:00<?, ?it/s]2022-07-16 18:58:21.185917: I tensorflow/core/grappler/optimizers/custom_graph_optimizer_registry.cc:113] Plugin optimizer for device_type GPU is enabled.\n",
            "Arena.playGames (1): 100%|██████████| 20/20 [08:35<00:00, 25.79s/it]\n",
            "Arena.playGames (2): 100%|██████████| 20/20 [08:36<00:00, 25.81s/it]\n",
            "2022-07-16 19:15:33 chris-pro.local Coach[45616] INFO NEW/PREV WINS : 17 / 23 ; DRAWS : 0\n",
            "2022-07-16 19:15:33 chris-pro.local Coach[45616] INFO REJECTING NEW MODEL\n",
            "2022-07-16 19:15:33 chris-pro.local Coach[45616] INFO Starting Iter #2 ...\n",
            "Self Play: 100%|██████████| 100/100 [38:39<00:00, 23.20s/it]\n"
          ]
        },
        {
          "name": "stdout",
          "output_type": "stream",
          "text": [
            "Checkpoint Directory exists! \n",
            "Epoch 1/10\n",
            "782/782 [==============================] - 31s 40ms/step - loss: 6.0278 - pi_loss: 4.9134 - v_loss: 1.1143\n",
            "Epoch 2/10\n",
            "782/782 [==============================] - 31s 40ms/step - loss: 5.8381 - pi_loss: 4.7973 - v_loss: 1.0408\n",
            "Epoch 3/10\n",
            "782/782 [==============================] - 31s 39ms/step - loss: 5.7490 - pi_loss: 4.7389 - v_loss: 1.0101\n",
            "Epoch 4/10\n",
            "782/782 [==============================] - 31s 39ms/step - loss: 5.6759 - pi_loss: 4.7087 - v_loss: 0.9672\n",
            "Epoch 5/10\n",
            "782/782 [==============================] - 31s 40ms/step - loss: 5.5940 - pi_loss: 4.6946 - v_loss: 0.8994\n",
            "Epoch 6/10\n",
            "782/782 [==============================] - 31s 39ms/step - loss: 5.4898 - pi_loss: 4.6773 - v_loss: 0.8125\n",
            "Epoch 7/10\n",
            "782/782 [==============================] - 31s 40ms/step - loss: 5.3492 - pi_loss: 4.6566 - v_loss: 0.6926\n",
            "Epoch 8/10\n",
            "782/782 [==============================] - 31s 39ms/step - loss: 5.1790 - pi_loss: 4.6345 - v_loss: 0.5445\n",
            "Epoch 9/10\n",
            "782/782 [==============================] - 31s 39ms/step - loss: 5.0248 - pi_loss: 4.6028 - v_loss: 0.4220\n",
            "Epoch 10/10\n",
            "782/782 [==============================] - 31s 40ms/step - loss: 4.8854 - pi_loss: 4.5596 - v_loss: 0.3258\n"
          ]
        },
        {
          "name": "stderr",
          "output_type": "stream",
          "text": [
            "2022-07-16 19:59:30 chris-pro.local Coach[45616] INFO PITTING AGAINST PREVIOUS VERSION\n",
            "Arena.playGames (1): 100%|██████████| 20/20 [07:10<00:00, 21.50s/it]\n",
            "Arena.playGames (2): 100%|██████████| 20/20 [07:41<00:00, 23.09s/it]\n",
            "2022-07-16 20:14:22 chris-pro.local Coach[45616] INFO NEW/PREV WINS : 27 / 13 ; DRAWS : 0\n",
            "2022-07-16 20:14:22 chris-pro.local Coach[45616] INFO ACCEPTING NEW MODEL\n",
            "2022-07-16 20:14:22 chris-pro.local Coach[45616] INFO Starting Iter #3 ...\n"
          ]
        },
        {
          "name": "stdout",
          "output_type": "stream",
          "text": [
            "Checkpoint Directory exists! \n",
            "Checkpoint Directory exists! \n"
          ]
        },
        {
          "name": "stderr",
          "output_type": "stream",
          "text": [
            "Self Play: 100%|██████████| 100/100 [31:56<00:00, 19.16s/it]\n"
          ]
        },
        {
          "name": "stdout",
          "output_type": "stream",
          "text": [
            "Checkpoint Directory exists! \n",
            "Epoch 1/10\n",
            "1105/1105 [==============================] - 44s 39ms/step - loss: 4.9051 - pi_loss: 4.4137 - v_loss: 0.4914\n",
            "Epoch 2/10\n",
            "1105/1105 [==============================] - 43s 39ms/step - loss: 4.6744 - pi_loss: 4.3346 - v_loss: 0.3399\n",
            "Epoch 3/10\n",
            "1105/1105 [==============================] - 44s 39ms/step - loss: 4.4867 - pi_loss: 4.2281 - v_loss: 0.2586\n",
            "Epoch 4/10\n",
            "1105/1105 [==============================] - 44s 39ms/step - loss: 4.2819 - pi_loss: 4.0710 - v_loss: 0.2109\n",
            "Epoch 5/10\n",
            "1105/1105 [==============================] - 44s 39ms/step - loss: 4.0242 - pi_loss: 3.8434 - v_loss: 0.1808\n",
            "Epoch 6/10\n",
            "1105/1105 [==============================] - 43s 39ms/step - loss: 3.7049 - pi_loss: 3.5418 - v_loss: 0.1632\n",
            "Epoch 7/10\n",
            "1105/1105 [==============================] - 44s 39ms/step - loss: 3.3504 - pi_loss: 3.1963 - v_loss: 0.1542\n",
            "Epoch 8/10\n",
            "1105/1105 [==============================] - 43s 39ms/step - loss: 2.9835 - pi_loss: 2.8432 - v_loss: 0.1403\n",
            "Epoch 9/10\n",
            "1105/1105 [==============================] - 44s 39ms/step - loss: 2.6843 - pi_loss: 2.5489 - v_loss: 0.1354\n",
            "Epoch 10/10\n",
            "1105/1105 [==============================] - 44s 39ms/step - loss: 2.4662 - pi_loss: 2.3364 - v_loss: 0.1298\n"
          ]
        },
        {
          "name": "stderr",
          "output_type": "stream",
          "text": [
            "2022-07-16 20:53:48 chris-pro.local Coach[45616] INFO PITTING AGAINST PREVIOUS VERSION\n",
            "Arena.playGames (1):   0%|          | 0/20 [00:00<?, ?it/s]2022-07-16 20:54:08 chris-pro.local MCTS[45616] ERROR All valid moves were masked, doing a workaround.\n",
            "Arena.playGames (1):  10%|█         | 2/20 [00:39<05:44, 19.12s/it]2022-07-16 20:54:53 chris-pro.local MCTS[45616] ERROR All valid moves were masked, doing a workaround.\n",
            "Arena.playGames (1):  35%|███▌      | 7/20 [02:39<05:16, 24.32s/it]2022-07-16 20:56:39 chris-pro.local MCTS[45616] ERROR All valid moves were masked, doing a workaround.\n",
            "Arena.playGames (1):  80%|████████  | 16/20 [05:44<01:14, 18.51s/it]2022-07-16 20:59:47 chris-pro.local MCTS[45616] ERROR All valid moves were masked, doing a workaround.\n",
            "Arena.playGames (1):  90%|█████████ | 18/20 [06:25<00:39, 19.54s/it]2022-07-16 21:00:32 chris-pro.local MCTS[45616] ERROR All valid moves were masked, doing a workaround.\n",
            "Arena.playGames (1): 100%|██████████| 20/20 [07:03<00:00, 21.19s/it]\n",
            "Arena.playGames (2):  10%|█         | 2/20 [00:43<06:37, 22.10s/it]2022-07-16 21:01:59 chris-pro.local MCTS[45616] ERROR All valid moves were masked, doing a workaround.\n",
            "2022-07-16 21:01:59 chris-pro.local MCTS[45616] ERROR All valid moves were masked, doing a workaround.\n",
            "Arena.playGames (2):  30%|███       | 6/20 [02:17<05:15, 22.52s/it]2022-07-16 21:03:36 chris-pro.local MCTS[45616] ERROR All valid moves were masked, doing a workaround.\n",
            "2022-07-16 21:03:36 chris-pro.local MCTS[45616] ERROR All valid moves were masked, doing a workaround.\n",
            "2022-07-16 21:03:37 chris-pro.local MCTS[45616] ERROR All valid moves were masked, doing a workaround.\n",
            "2022-07-16 21:03:37 chris-pro.local MCTS[45616] ERROR All valid moves were masked, doing a workaround.\n",
            "2022-07-16 21:03:37 chris-pro.local MCTS[45616] ERROR All valid moves were masked, doing a workaround.\n",
            "2022-07-16 21:03:37 chris-pro.local MCTS[45616] ERROR All valid moves were masked, doing a workaround.\n",
            "2022-07-16 21:03:37 chris-pro.local MCTS[45616] ERROR All valid moves were masked, doing a workaround.\n",
            "Arena.playGames (2):  45%|████▌     | 9/20 [03:23<03:56, 21.48s/it]2022-07-16 21:04:26 chris-pro.local MCTS[45616] ERROR All valid moves were masked, doing a workaround.\n",
            "Arena.playGames (2):  75%|███████▌  | 15/20 [05:32<01:53, 22.78s/it]2022-07-16 21:06:41 chris-pro.local MCTS[45616] ERROR All valid moves were masked, doing a workaround.\n",
            "2022-07-16 21:06:46 chris-pro.local MCTS[45616] ERROR All valid moves were masked, doing a workaround.\n",
            "2022-07-16 21:06:46 chris-pro.local MCTS[45616] ERROR All valid moves were masked, doing a workaround.\n",
            "2022-07-16 21:06:47 chris-pro.local MCTS[45616] ERROR All valid moves were masked, doing a workaround.\n",
            "2022-07-16 21:06:47 chris-pro.local MCTS[45616] ERROR All valid moves were masked, doing a workaround.\n",
            "Arena.playGames (2): 100%|██████████| 20/20 [07:19<00:00, 21.99s/it]\n",
            "2022-07-16 21:08:11 chris-pro.local Coach[45616] INFO NEW/PREV WINS : 17 / 23 ; DRAWS : 0\n",
            "2022-07-16 21:08:11 chris-pro.local Coach[45616] INFO REJECTING NEW MODEL\n",
            "2022-07-16 21:08:11 chris-pro.local Coach[45616] INFO Starting Iter #4 ...\n",
            "Self Play:  84%|████████▍ | 84/100 [27:38<04:48, 18.06s/it]2022-07-16 21:36:19 chris-pro.local MCTS[45616] ERROR All valid moves were masked, doing a workaround.\n",
            "Self Play:  86%|████████▌ | 86/100 [28:20<04:22, 18.72s/it]2022-07-16 21:36:49 chris-pro.local MCTS[45616] ERROR All valid moves were masked, doing a workaround.\n",
            "2022-07-16 21:36:49 chris-pro.local MCTS[45616] ERROR All valid moves were masked, doing a workaround.\n",
            "2022-07-16 21:36:50 chris-pro.local MCTS[45616] ERROR All valid moves were masked, doing a workaround.\n",
            "2022-07-16 21:36:50 chris-pro.local MCTS[45616] ERROR All valid moves were masked, doing a workaround.\n",
            "2022-07-16 21:36:50 chris-pro.local MCTS[45616] ERROR All valid moves were masked, doing a workaround.\n",
            "2022-07-16 21:36:50 chris-pro.local MCTS[45616] ERROR All valid moves were masked, doing a workaround.\n",
            "2022-07-16 21:36:50 chris-pro.local MCTS[45616] ERROR All valid moves were masked, doing a workaround.\n",
            "2022-07-16 21:36:50 chris-pro.local MCTS[45616] ERROR All valid moves were masked, doing a workaround.\n",
            "2022-07-16 21:36:50 chris-pro.local MCTS[45616] ERROR All valid moves were masked, doing a workaround.\n",
            "2022-07-16 21:36:50 chris-pro.local MCTS[45616] ERROR All valid moves were masked, doing a workaround.\n",
            "2022-07-16 21:36:50 chris-pro.local MCTS[45616] ERROR All valid moves were masked, doing a workaround.\n",
            "2022-07-16 21:36:50 chris-pro.local MCTS[45616] ERROR All valid moves were masked, doing a workaround.\n",
            "2022-07-16 21:36:50 chris-pro.local MCTS[45616] ERROR All valid moves were masked, doing a workaround.\n",
            "2022-07-16 21:36:50 chris-pro.local MCTS[45616] ERROR All valid moves were masked, doing a workaround.\n",
            "Self Play: 100%|██████████| 100/100 [32:41<00:00, 19.62s/it]\n"
          ]
        },
        {
          "name": "stdout",
          "output_type": "stream",
          "text": [
            "Checkpoint Directory exists! \n",
            "Epoch 1/10\n",
            "1438/1438 [==============================] - 57s 40ms/step - loss: 4.9338 - pi_loss: 4.3261 - v_loss: 0.6077\n",
            "Epoch 2/10\n",
            "1438/1438 [==============================] - 57s 39ms/step - loss: 4.7172 - pi_loss: 4.2631 - v_loss: 0.4540\n",
            "Epoch 3/10\n",
            "1438/1438 [==============================] - 57s 40ms/step - loss: 4.5439 - pi_loss: 4.1903 - v_loss: 0.3535\n",
            "Epoch 4/10\n",
            "1438/1438 [==============================] - 57s 40ms/step - loss: 4.3763 - pi_loss: 4.0875 - v_loss: 0.2888\n",
            "Epoch 5/10\n",
            "1438/1438 [==============================] - 58s 40ms/step - loss: 4.1689 - pi_loss: 3.9332 - v_loss: 0.2357\n",
            "Epoch 6/10\n",
            "1438/1438 [==============================] - 57s 40ms/step - loss: 3.9149 - pi_loss: 3.7092 - v_loss: 0.2057\n",
            "Epoch 7/10\n",
            "1438/1438 [==============================] - 57s 40ms/step - loss: 3.5993 - pi_loss: 3.4150 - v_loss: 0.1843\n",
            "Epoch 8/10\n",
            "1438/1438 [==============================] - 57s 39ms/step - loss: 3.2388 - pi_loss: 3.0692 - v_loss: 0.1697\n",
            "Epoch 9/10\n",
            "1438/1438 [==============================] - 57s 39ms/step - loss: 2.8887 - pi_loss: 2.7314 - v_loss: 0.1573\n",
            "Epoch 10/10\n",
            "1438/1438 [==============================] - 57s 39ms/step - loss: 2.6009 - pi_loss: 2.4521 - v_loss: 0.1488\n"
          ]
        },
        {
          "name": "stderr",
          "output_type": "stream",
          "text": [
            "2022-07-16 21:50:41 chris-pro.local Coach[45616] INFO PITTING AGAINST PREVIOUS VERSION\n",
            "Arena.playGames (1):  25%|██▌       | 5/20 [01:45<05:38, 22.56s/it]2022-07-16 21:52:40 chris-pro.local MCTS[45616] ERROR All valid moves were masked, doing a workaround.\n",
            "Arena.playGames (1):  65%|██████▌   | 13/20 [04:21<02:29, 21.33s/it]2022-07-16 21:55:15 chris-pro.local MCTS[45616] ERROR All valid moves were masked, doing a workaround.\n",
            "Arena.playGames (1):  95%|█████████▌| 19/20 [06:21<00:20, 20.43s/it]2022-07-16 21:57:23 chris-pro.local MCTS[45616] ERROR All valid moves were masked, doing a workaround.\n",
            "Arena.playGames (1): 100%|██████████| 20/20 [06:42<00:00, 20.14s/it]\n",
            "Arena.playGames (2):   5%|▌         | 1/20 [00:23<07:24, 23.40s/it]2022-07-16 21:58:05 chris-pro.local MCTS[45616] ERROR All valid moves were masked, doing a workaround.\n",
            "Arena.playGames (2):  15%|█▌        | 3/20 [01:17<07:25, 26.23s/it]2022-07-16 21:59:05 chris-pro.local MCTS[45616] ERROR All valid moves were masked, doing a workaround.\n",
            "2022-07-16 21:59:11 chris-pro.local MCTS[45616] ERROR All valid moves were masked, doing a workaround.\n",
            "Arena.playGames (2):  25%|██▌       | 5/20 [01:57<05:20, 21.38s/it]2022-07-16 21:59:34 chris-pro.local MCTS[45616] ERROR All valid moves were masked, doing a workaround.\n",
            "Arena.playGames (2):  30%|███       | 6/20 [02:15<04:45, 20.41s/it]2022-07-16 22:00:09 chris-pro.local MCTS[45616] ERROR All valid moves were masked, doing a workaround.\n",
            "Arena.playGames (2):  80%|████████  | 16/20 [05:46<01:20, 20.12s/it]2022-07-16 22:03:29 chris-pro.local MCTS[45616] ERROR All valid moves were masked, doing a workaround.\n",
            "Arena.playGames (2): 100%|██████████| 20/20 [07:01<00:00, 21.05s/it]\n",
            "2022-07-16 22:04:25 chris-pro.local Coach[45616] INFO NEW/PREV WINS : 16 / 24 ; DRAWS : 0\n",
            "2022-07-16 22:04:25 chris-pro.local Coach[45616] INFO REJECTING NEW MODEL\n",
            "2022-07-16 22:04:25 chris-pro.local Coach[45616] INFO Starting Iter #5 ...\n",
            "Self Play: 100%|██████████| 100/100 [35:16<00:00, 21.17s/it]\n"
          ]
        },
        {
          "name": "stdout",
          "output_type": "stream",
          "text": [
            "Checkpoint Directory exists! \n",
            "Epoch 1/10\n",
            "1798/1798 [==============================] - 71s 39ms/step - loss: 4.9468 - pi_loss: 4.2636 - v_loss: 0.6832\n",
            "Epoch 2/10\n",
            "1798/1798 [==============================] - 71s 39ms/step - loss: 4.7198 - pi_loss: 4.1936 - v_loss: 0.5262\n",
            "Epoch 3/10\n",
            "1798/1798 [==============================] - 71s 39ms/step - loss: 4.5229 - pi_loss: 4.1161 - v_loss: 0.4068\n",
            "Epoch 4/10\n",
            "1798/1798 [==============================] - 71s 39ms/step - loss: 4.3221 - pi_loss: 3.9999 - v_loss: 0.3222\n",
            "Epoch 5/10\n",
            "1798/1798 [==============================] - 71s 39ms/step - loss: 4.0954 - pi_loss: 3.8323 - v_loss: 0.2631\n",
            "Epoch 6/10\n",
            "1798/1798 [==============================] - 71s 39ms/step - loss: 3.8176 - pi_loss: 3.5922 - v_loss: 0.2254\n",
            "Epoch 7/10\n",
            "1721/1798 [===========================>..] - ETA: 28:09 - loss: 3.4791 - pi_loss: 3.2792 - v_loss: 0.1999"
          ]
        }
      ],
      "source": [
        "%time coach.learn()"
      ]
    },
    {
      "cell_type": "code",
      "execution_count": null,
      "metadata": {},
      "outputs": [],
      "source": [
        "%matplotlib widget\n",
        "\n",
        "game = SantoriniGame(5)\n",
        "\n",
        "random_player = RandomPlayer(game).play\n",
        "greedy_player = GreedySantoriniPlayer(game).play\n",
        "\n",
        "args = dotdict({'numMCTSSims': 25, 'cpuct': 1.0})\n",
        "mcts = MCTS(game, nnet, args)\n",
        "alphago_player = lambda x: np.argmax(mcts.getActionProb(x, temp=0))\n",
        "\n",
        "arena = Arena.Arena(alphago_player, greedy_player, game, display=game.display_3d)\n",
        "\n",
        "%time oneWon, twoWon, draws = arena.playGames(5, verbose=False)\n",
        "print(\"\\AlphaGo won {} games, Greedy Player won {} games\".format(oneWon, twoWon))"
      ]
    },
    {
      "cell_type": "code",
      "execution_count": null,
      "metadata": {
        "colab": {
          "base_uri": "https://localhost:8080/"
        },
        "id": "b4CdwwNWd6vt",
        "outputId": "092f967a-b6eb-475a-eebf-31a54e8d6bd5"
      },
      "outputs": [],
      "source": [
        "# Checkpoints and best model (if found) will be saved in this folder\n",
        "%ls temp"
      ]
    }
  ],
  "metadata": {
    "accelerator": "GPU",
    "colab": {
      "collapsed_sections": [],
      "machine_shape": "hm",
      "name": "Train Dots and Boxes using AlphaZero General.ipynb",
      "provenance": []
    },
    "kernelspec": {
      "display_name": "Python 3.8.13 ('alphazero')",
      "language": "python",
      "name": "python3"
    },
    "language_info": {
      "codemirror_mode": {
        "name": "ipython",
        "version": 3
      },
      "file_extension": ".py",
      "mimetype": "text/x-python",
      "name": "python",
      "nbconvert_exporter": "python",
      "pygments_lexer": "ipython3",
      "version": "3.8.13"
    },
    "vscode": {
      "interpreter": {
        "hash": "3767498380bc04a6038b9d1090652050190349b8ea37c8cbd820de5263ca8855"
      }
    }
  },
  "nbformat": 4,
  "nbformat_minor": 0
}
